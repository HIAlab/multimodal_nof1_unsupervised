{
 "cells": [
  {
   "cell_type": "markdown",
   "metadata": {
    "tags": []
   },
   "source": [
    "# Hypothesis testing\n",
    "\n",
    "Instead of relying on simple t-tests to test whether there is a significant difference between the outcomes in treatment and non-treatment phases, we would like to try out methods that take into account the time dependencies in the data as well as trends etc."
   ]
  },
  {
   "cell_type": "raw",
   "metadata": {},
   "source": [
    "!pip install pmdarima"
   ]
  },
  {
   "cell_type": "code",
   "execution_count": 1,
   "metadata": {},
   "outputs": [],
   "source": [
    "%load_ext autoreload\n",
    "%autoreload 2"
   ]
  },
  {
   "cell_type": "code",
   "execution_count": null,
   "metadata": {
    "tags": []
   },
   "outputs": [],
   "source": [
    "data_path = \"./v_re_0.2\"\n",
    "import matplotlib.pyplot as plt\n",
    "\n",
    "import yaml\n",
    "\n",
    "with open(\"../../parameters.yaml\") as f:\n",
    "    yaml_params = yaml.safe_load(f)\n",
    "LIMIT14 = yaml_params[\"LIMIT14\"]\n",
    "PREDICTOR_COLUMNS_PILOT = yaml_params[\"PREDICTOR_COLUMNS_PILOT\"]\n",
    "\n",
    "import scipy\n",
    "import seaborn as sns\n",
    "import pandas as pd\n",
    "\n",
    "import numpy as np\n",
    "from sklearn.decomposition import PCA\n",
    "\n",
    "from statsmodels.tsa.arima.model import ARIMA\n",
    "import pmdarima as pm\n",
    "\n",
    "import statsmodels\n",
    "\n",
    "import statsmodels.api as sm\n",
    "\n",
    "from tqdm import tqdm\n",
    "\n",
    "import rpy2.robjects as robjects\n",
    "from rpy2.robjects.packages import importr\n",
    "import rpy2.robjects.packages as rpackages\n",
    "\n",
    "import rpy2.robjects as ro\n",
    "from rpy2.robjects.packages import importr\n",
    "from rpy2.robjects import pandas2ri\n",
    "from rpy2.robjects.vectors import StrVector\n",
    "\n",
    "import itertools \n",
    "\n",
    "\n",
    "from statsmodels.stats.diagnostic import compare_j\n",
    "\n",
    "import warnings\n",
    "warnings.filterwarnings(\"ignore\", message=\"An unsupported index was provided and will be ignored when e.g. forecasting.\")\n",
    "\n",
    "from statsmodels.tsa.stattools import grangercausalitytests\n",
    "\n",
    "from scipy.stats import permutation_test \n",
    "\n",
    "from mlxtend.evaluate import permutation_test as mlx_permutation_test\n",
    "\n",
    "import statsmodels.formula.api as smf"
   ]
  },
  {
   "cell_type": "code",
   "execution_count": null,
   "metadata": {},
   "outputs": [],
   "source": [
    "from Simulations_for_paper.src.test_utils import *"
   ]
  },
  {
   "cell_type": "code",
   "execution_count": 4,
   "metadata": {},
   "outputs": [
    {
     "data": {
      "text/plain": [
       "'./v_re_0.2'"
      ]
     },
     "execution_count": 4,
     "metadata": {},
     "output_type": "execute_result"
    }
   ],
   "source": [
    "data_path"
   ]
  },
  {
   "cell_type": "code",
   "execution_count": 4,
   "metadata": {},
   "outputs": [],
   "source": [
    "treatment_column = \"Intervention\"\n",
    "target_column = \"PCA1_uni\""
   ]
  },
  {
   "cell_type": "code",
   "execution_count": 5,
   "metadata": {},
   "outputs": [
    {
     "name": "stdout",
     "output_type": "stream",
     "text": [
      "./v_re_0.2\n",
      "Embeddings_Meta\n",
      "['A1' 'B1' 'A2' 'B2' 'A3' 'B3' 'A4' 'B4']\n",
      "['A1' 'B1' 'A2' 'B2' 'A3' 'B3' 'A4' 'B4']\n",
      "['A1' 'B1' 'A2' 'B2' 'A3' 'B3' 'A4' 'B4']\n",
      "['A1' 'B1' 'A2' 'B2' 'A3' 'B3' 'A4' 'B4' 'A5']\n",
      "['A1' 'B1' 'A2' 'B2' 'A3' 'B3' 'A4' 'B4']\n",
      "PCA variance explained: [0.98160296]\n"
     ]
    }
   ],
   "source": [
    "data, IDs,pca_uni = prep_embedding_pca_data_for_tests(data_path,\"Embeddings_Meta\", treatment_column,target_column)"
   ]
  },
  {
   "cell_type": "code",
   "execution_count": 12,
   "metadata": {},
   "outputs": [
    {
     "data": {
      "text/html": [
       "<div>\n",
       "<style scoped>\n",
       "    .dataframe tbody tr th:only-of-type {\n",
       "        vertical-align: middle;\n",
       "    }\n",
       "\n",
       "    .dataframe tbody tr th {\n",
       "        vertical-align: top;\n",
       "    }\n",
       "\n",
       "    .dataframe thead tr th {\n",
       "        text-align: left;\n",
       "    }\n",
       "\n",
       "    .dataframe thead tr:last-of-type th {\n",
       "        text-align: right;\n",
       "    }\n",
       "</style>\n",
       "<table border=\"1\" class=\"dataframe\">\n",
       "  <thead>\n",
       "    <tr>\n",
       "      <th></th>\n",
       "      <th colspan=\"3\" halign=\"left\">AvgScore</th>\n",
       "      <th colspan=\"3\" halign=\"left\">PCA1_uni</th>\n",
       "    </tr>\n",
       "    <tr>\n",
       "      <th></th>\n",
       "      <th>min</th>\n",
       "      <th>max</th>\n",
       "      <th>mean</th>\n",
       "      <th>min</th>\n",
       "      <th>max</th>\n",
       "      <th>mean</th>\n",
       "    </tr>\n",
       "    <tr>\n",
       "      <th>Id</th>\n",
       "      <th></th>\n",
       "      <th></th>\n",
       "      <th></th>\n",
       "      <th></th>\n",
       "      <th></th>\n",
       "      <th></th>\n",
       "    </tr>\n",
       "  </thead>\n",
       "  <tbody>\n",
       "    <tr>\n",
       "      <th>1</th>\n",
       "      <td>0.0</td>\n",
       "      <td>0.9</td>\n",
       "      <td>0.48</td>\n",
       "      <td>-3.12</td>\n",
       "      <td>1.71</td>\n",
       "      <td>-1.45</td>\n",
       "    </tr>\n",
       "    <tr>\n",
       "      <th>2</th>\n",
       "      <td>0.1</td>\n",
       "      <td>1.0</td>\n",
       "      <td>0.45</td>\n",
       "      <td>-1.84</td>\n",
       "      <td>6.37</td>\n",
       "      <td>0.34</td>\n",
       "    </tr>\n",
       "    <tr>\n",
       "      <th>3</th>\n",
       "      <td>0.0</td>\n",
       "      <td>0.9</td>\n",
       "      <td>0.45</td>\n",
       "      <td>-2.50</td>\n",
       "      <td>6.37</td>\n",
       "      <td>1.23</td>\n",
       "    </tr>\n",
       "    <tr>\n",
       "      <th>4</th>\n",
       "      <td>0.0</td>\n",
       "      <td>0.9</td>\n",
       "      <td>0.35</td>\n",
       "      <td>-0.97</td>\n",
       "      <td>6.21</td>\n",
       "      <td>2.09</td>\n",
       "    </tr>\n",
       "    <tr>\n",
       "      <th>5</th>\n",
       "      <td>0.1</td>\n",
       "      <td>0.9</td>\n",
       "      <td>0.50</td>\n",
       "      <td>-4.35</td>\n",
       "      <td>0.51</td>\n",
       "      <td>-2.69</td>\n",
       "    </tr>\n",
       "  </tbody>\n",
       "</table>\n",
       "</div>"
      ],
      "text/plain": [
       "   AvgScore            PCA1_uni            \n",
       "        min  max  mean      min   max  mean\n",
       "Id                                         \n",
       "1       0.0  0.9  0.48    -3.12  1.71 -1.45\n",
       "2       0.1  1.0  0.45    -1.84  6.37  0.34\n",
       "3       0.0  0.9  0.45    -2.50  6.37  1.23\n",
       "4       0.0  0.9  0.35    -0.97  6.21  2.09\n",
       "5       0.1  0.9  0.50    -4.35  0.51 -2.69"
      ]
     },
     "execution_count": 12,
     "metadata": {},
     "output_type": "execute_result"
    }
   ],
   "source": [
    "data.groupby([\"Id\"]).agg({\"AvgScore\":[min,max, np.mean],\n",
    "                         \"PCA1_uni\":[min,max,np.mean]}).round(2)"
   ]
  },
  {
   "cell_type": "code",
   "execution_count": 13,
   "metadata": {},
   "outputs": [
    {
     "data": {
      "text/html": [
       "<div>\n",
       "<style scoped>\n",
       "    .dataframe tbody tr th:only-of-type {\n",
       "        vertical-align: middle;\n",
       "    }\n",
       "\n",
       "    .dataframe tbody tr th {\n",
       "        vertical-align: top;\n",
       "    }\n",
       "\n",
       "    .dataframe thead tr th {\n",
       "        text-align: left;\n",
       "    }\n",
       "\n",
       "    .dataframe thead tr:last-of-type th {\n",
       "        text-align: right;\n",
       "    }\n",
       "</style>\n",
       "<table border=\"1\" class=\"dataframe\">\n",
       "  <thead>\n",
       "    <tr>\n",
       "      <th></th>\n",
       "      <th></th>\n",
       "      <th colspan=\"2\" halign=\"left\">AvgScore</th>\n",
       "      <th colspan=\"2\" halign=\"left\">PCA1_uni</th>\n",
       "    </tr>\n",
       "    <tr>\n",
       "      <th></th>\n",
       "      <th></th>\n",
       "      <th>std</th>\n",
       "      <th>mean</th>\n",
       "      <th>std</th>\n",
       "      <th>mean</th>\n",
       "    </tr>\n",
       "    <tr>\n",
       "      <th>Id</th>\n",
       "      <th>Intervention</th>\n",
       "      <th></th>\n",
       "      <th></th>\n",
       "      <th></th>\n",
       "      <th></th>\n",
       "    </tr>\n",
       "  </thead>\n",
       "  <tbody>\n",
       "    <tr>\n",
       "      <th rowspan=\"2\" valign=\"top\">1</th>\n",
       "      <th>0</th>\n",
       "      <td>0.23</td>\n",
       "      <td>0.42</td>\n",
       "      <td>0.96</td>\n",
       "      <td>-1.54</td>\n",
       "    </tr>\n",
       "    <tr>\n",
       "      <th>1</th>\n",
       "      <td>0.28</td>\n",
       "      <td>0.54</td>\n",
       "      <td>1.04</td>\n",
       "      <td>-1.37</td>\n",
       "    </tr>\n",
       "    <tr>\n",
       "      <th rowspan=\"2\" valign=\"top\">2</th>\n",
       "      <th>0</th>\n",
       "      <td>0.20</td>\n",
       "      <td>0.54</td>\n",
       "      <td>2.05</td>\n",
       "      <td>0.84</td>\n",
       "    </tr>\n",
       "    <tr>\n",
       "      <th>1</th>\n",
       "      <td>0.18</td>\n",
       "      <td>0.36</td>\n",
       "      <td>0.94</td>\n",
       "      <td>-0.17</td>\n",
       "    </tr>\n",
       "    <tr>\n",
       "      <th rowspan=\"2\" valign=\"top\">3</th>\n",
       "      <th>0</th>\n",
       "      <td>0.20</td>\n",
       "      <td>0.46</td>\n",
       "      <td>2.17</td>\n",
       "      <td>1.25</td>\n",
       "    </tr>\n",
       "    <tr>\n",
       "      <th>1</th>\n",
       "      <td>0.23</td>\n",
       "      <td>0.43</td>\n",
       "      <td>1.40</td>\n",
       "      <td>1.20</td>\n",
       "    </tr>\n",
       "    <tr>\n",
       "      <th rowspan=\"2\" valign=\"top\">4</th>\n",
       "      <th>0</th>\n",
       "      <td>0.25</td>\n",
       "      <td>0.34</td>\n",
       "      <td>2.25</td>\n",
       "      <td>2.22</td>\n",
       "    </tr>\n",
       "    <tr>\n",
       "      <th>1</th>\n",
       "      <td>0.27</td>\n",
       "      <td>0.37</td>\n",
       "      <td>1.81</td>\n",
       "      <td>1.93</td>\n",
       "    </tr>\n",
       "    <tr>\n",
       "      <th rowspan=\"2\" valign=\"top\">5</th>\n",
       "      <th>0</th>\n",
       "      <td>0.22</td>\n",
       "      <td>0.52</td>\n",
       "      <td>1.32</td>\n",
       "      <td>-2.88</td>\n",
       "    </tr>\n",
       "    <tr>\n",
       "      <th>1</th>\n",
       "      <td>0.19</td>\n",
       "      <td>0.48</td>\n",
       "      <td>1.36</td>\n",
       "      <td>-2.49</td>\n",
       "    </tr>\n",
       "  </tbody>\n",
       "</table>\n",
       "</div>"
      ],
      "text/plain": [
       "                AvgScore       PCA1_uni      \n",
       "                     std  mean      std  mean\n",
       "Id Intervention                              \n",
       "1  0                0.23  0.42     0.96 -1.54\n",
       "   1                0.28  0.54     1.04 -1.37\n",
       "2  0                0.20  0.54     2.05  0.84\n",
       "   1                0.18  0.36     0.94 -0.17\n",
       "3  0                0.20  0.46     2.17  1.25\n",
       "   1                0.23  0.43     1.40  1.20\n",
       "4  0                0.25  0.34     2.25  2.22\n",
       "   1                0.27  0.37     1.81  1.93\n",
       "5  0                0.22  0.52     1.32 -2.88\n",
       "   1                0.19  0.48     1.36 -2.49"
      ]
     },
     "execution_count": 13,
     "metadata": {},
     "output_type": "execute_result"
    }
   ],
   "source": [
    "data.groupby([\"Id\", \"Intervention\"]).agg({\"AvgScore\":[np.std, np.mean],\n",
    "                         \"PCA1_uni\":[np.std, np.mean]}).round(2)"
   ]
  },
  {
   "cell_type": "code",
   "execution_count": 14,
   "metadata": {},
   "outputs": [
    {
     "data": {
      "text/html": [
       "<div>\n",
       "<style scoped>\n",
       "    .dataframe tbody tr th:only-of-type {\n",
       "        vertical-align: middle;\n",
       "    }\n",
       "\n",
       "    .dataframe tbody tr th {\n",
       "        vertical-align: top;\n",
       "    }\n",
       "\n",
       "    .dataframe thead tr th {\n",
       "        text-align: left;\n",
       "    }\n",
       "\n",
       "    .dataframe thead tr:last-of-type th {\n",
       "        text-align: right;\n",
       "    }\n",
       "</style>\n",
       "<table border=\"1\" class=\"dataframe\">\n",
       "  <thead>\n",
       "    <tr>\n",
       "      <th></th>\n",
       "      <th></th>\n",
       "      <th colspan=\"3\" halign=\"left\">AvgScore</th>\n",
       "      <th colspan=\"3\" halign=\"left\">PCA1_uni</th>\n",
       "    </tr>\n",
       "    <tr>\n",
       "      <th></th>\n",
       "      <th></th>\n",
       "      <th>min</th>\n",
       "      <th>max</th>\n",
       "      <th>mean</th>\n",
       "      <th>min</th>\n",
       "      <th>max</th>\n",
       "      <th>mean</th>\n",
       "    </tr>\n",
       "    <tr>\n",
       "      <th>Id</th>\n",
       "      <th>Intervention</th>\n",
       "      <th></th>\n",
       "      <th></th>\n",
       "      <th></th>\n",
       "      <th></th>\n",
       "      <th></th>\n",
       "      <th></th>\n",
       "    </tr>\n",
       "  </thead>\n",
       "  <tbody>\n",
       "    <tr>\n",
       "      <th rowspan=\"2\" valign=\"top\">1</th>\n",
       "      <th>0</th>\n",
       "      <td>0.0</td>\n",
       "      <td>0.8</td>\n",
       "      <td>0.42</td>\n",
       "      <td>-2.97</td>\n",
       "      <td>0.58</td>\n",
       "      <td>-1.54</td>\n",
       "    </tr>\n",
       "    <tr>\n",
       "      <th>1</th>\n",
       "      <td>0.0</td>\n",
       "      <td>0.9</td>\n",
       "      <td>0.54</td>\n",
       "      <td>-3.12</td>\n",
       "      <td>1.71</td>\n",
       "      <td>-1.37</td>\n",
       "    </tr>\n",
       "    <tr>\n",
       "      <th rowspan=\"2\" valign=\"top\">2</th>\n",
       "      <th>0</th>\n",
       "      <td>0.2</td>\n",
       "      <td>1.0</td>\n",
       "      <td>0.54</td>\n",
       "      <td>-1.84</td>\n",
       "      <td>6.37</td>\n",
       "      <td>0.84</td>\n",
       "    </tr>\n",
       "    <tr>\n",
       "      <th>1</th>\n",
       "      <td>0.1</td>\n",
       "      <td>0.7</td>\n",
       "      <td>0.36</td>\n",
       "      <td>-1.12</td>\n",
       "      <td>2.08</td>\n",
       "      <td>-0.17</td>\n",
       "    </tr>\n",
       "    <tr>\n",
       "      <th rowspan=\"2\" valign=\"top\">3</th>\n",
       "      <th>0</th>\n",
       "      <td>0.1</td>\n",
       "      <td>0.9</td>\n",
       "      <td>0.46</td>\n",
       "      <td>-2.50</td>\n",
       "      <td>6.37</td>\n",
       "      <td>1.25</td>\n",
       "    </tr>\n",
       "    <tr>\n",
       "      <th>1</th>\n",
       "      <td>0.0</td>\n",
       "      <td>0.9</td>\n",
       "      <td>0.43</td>\n",
       "      <td>-1.07</td>\n",
       "      <td>3.60</td>\n",
       "      <td>1.20</td>\n",
       "    </tr>\n",
       "    <tr>\n",
       "      <th rowspan=\"2\" valign=\"top\">4</th>\n",
       "      <th>0</th>\n",
       "      <td>0.0</td>\n",
       "      <td>0.9</td>\n",
       "      <td>0.34</td>\n",
       "      <td>-0.67</td>\n",
       "      <td>6.21</td>\n",
       "      <td>2.22</td>\n",
       "    </tr>\n",
       "    <tr>\n",
       "      <th>1</th>\n",
       "      <td>0.1</td>\n",
       "      <td>0.9</td>\n",
       "      <td>0.37</td>\n",
       "      <td>-0.97</td>\n",
       "      <td>5.75</td>\n",
       "      <td>1.93</td>\n",
       "    </tr>\n",
       "    <tr>\n",
       "      <th rowspan=\"2\" valign=\"top\">5</th>\n",
       "      <th>0</th>\n",
       "      <td>0.1</td>\n",
       "      <td>0.9</td>\n",
       "      <td>0.52</td>\n",
       "      <td>-4.35</td>\n",
       "      <td>0.26</td>\n",
       "      <td>-2.88</td>\n",
       "    </tr>\n",
       "    <tr>\n",
       "      <th>1</th>\n",
       "      <td>0.1</td>\n",
       "      <td>0.8</td>\n",
       "      <td>0.48</td>\n",
       "      <td>-4.15</td>\n",
       "      <td>0.51</td>\n",
       "      <td>-2.49</td>\n",
       "    </tr>\n",
       "  </tbody>\n",
       "</table>\n",
       "</div>"
      ],
      "text/plain": [
       "                AvgScore            PCA1_uni            \n",
       "                     min  max  mean      min   max  mean\n",
       "Id Intervention                                         \n",
       "1  0                 0.0  0.8  0.42    -2.97  0.58 -1.54\n",
       "   1                 0.0  0.9  0.54    -3.12  1.71 -1.37\n",
       "2  0                 0.2  1.0  0.54    -1.84  6.37  0.84\n",
       "   1                 0.1  0.7  0.36    -1.12  2.08 -0.17\n",
       "3  0                 0.1  0.9  0.46    -2.50  6.37  1.25\n",
       "   1                 0.0  0.9  0.43    -1.07  3.60  1.20\n",
       "4  0                 0.0  0.9  0.34    -0.67  6.21  2.22\n",
       "   1                 0.1  0.9  0.37    -0.97  5.75  1.93\n",
       "5  0                 0.1  0.9  0.52    -4.35  0.26 -2.88\n",
       "   1                 0.1  0.8  0.48    -4.15  0.51 -2.49"
      ]
     },
     "execution_count": 14,
     "metadata": {},
     "output_type": "execute_result"
    }
   ],
   "source": [
    "data.groupby([\"Id\", \"Intervention\"]).agg({\"AvgScore\":[min,max, np.mean],\n",
    "                         \"PCA1_uni\":[min,max, np.mean]}).round(2)"
   ]
  },
  {
   "cell_type": "code",
   "execution_count": 21,
   "metadata": {},
   "outputs": [],
   "source": [
    "data[\"time_point\"] = 1\n",
    "\n",
    "for ID in IDs:\n",
    "    data.loc[data[\"Id\"]==f\"{ID}\",\"time_point\"] = range(len(data[data[\"Id\"]==f\"{ID}\"]))"
   ]
  },
  {
   "cell_type": "code",
   "execution_count": 27,
   "metadata": {},
   "outputs": [
    {
     "name": "stdout",
     "output_type": "stream",
     "text": [
      "[Text(-20.0, 0, '−20'), Text(0.0, 0, '0'), Text(20.0, 0, '20'), Text(40.0, 0, '40'), Text(60.0, 0, '60')]\n",
      "[Text(-20.0, 0, '−20'), Text(0.0, 0, '0'), Text(20.0, 0, '20'), Text(40.0, 0, '40'), Text(60.0, 0, '60')]\n",
      "[Text(-20.0, 0, '−20'), Text(0.0, 0, '0'), Text(20.0, 0, '20'), Text(40.0, 0, '40'), Text(60.0, 0, '60')]\n",
      "[Text(-20.0, 0, '−20'), Text(0.0, 0, '0'), Text(20.0, 0, '20'), Text(40.0, 0, '40'), Text(60.0, 0, '60')]\n",
      "[Text(-20.0, 0, '−20'), Text(0.0, 0, '0'), Text(20.0, 0, '20'), Text(40.0, 0, '40'), Text(60.0, 0, '60')]\n"
     ]
    },
    {
     "name": "stderr",
     "output_type": "stream",
     "text": [
      "/tmp/ipykernel_2165/1096826807.py:5: UserWarning: FixedFormatter should only be used together with FixedLocator\n",
      "  _ = axes.set_xticklabels(axes.get_xticklabels(), rotation=30)\n"
     ]
    },
    {
     "data": {
      "image/png": "[encoded data removed]",
      "text/plain": [
       "<Figure size 1080x216 with 5 Axes>"
      ]
     },
     "metadata": {
      "needs_background": "light"
     },
     "output_type": "display_data"
    }
   ],
   "source": [
    "g = sns.FacetGrid(data, col=\"Id\", hue=\"Intervention\")\n",
    "g.map(sns.scatterplot,\"time_point\",\"PCA1_uni\")\n",
    "for axes in g.axes.flat: \n",
    "    print(axes.get_xticklabels())\n",
    "    _ = axes.set_xticklabels(axes.get_xticklabels(), rotation=30)\n",
    "plt.tight_layout()\n",
    "plt.savefig(\"pca_timeseries.jpg\")"
   ]
  },
  {
   "cell_type": "code",
   "execution_count": 30,
   "metadata": {},
   "outputs": [
    {
     "data": {
      "image/png": "[encoded data removed]",
      "text/plain": [
       "<Figure size 432x288 with 1 Axes>"
      ]
     },
     "metadata": {
      "needs_background": "light"
     },
     "output_type": "display_data"
    }
   ],
   "source": [
    "sns.scatterplot(x=\"time_point\",y=\"PCA1_uni\", data=data, hue=\"Intervention\")\n",
    "plt.xticks(rotation=45)\n",
    "plt.tight_layout()\n",
    "plt.savefig(\"valueblob.jpg\")"
   ]
  },
  {
   "cell_type": "code",
   "execution_count": 32,
   "metadata": {},
   "outputs": [
    {
     "name": "stderr",
     "output_type": "stream",
     "text": [
      "/tmp/ipykernel_2165/740903323.py:4: UserWarning: FixedFormatter should only be used together with FixedLocator\n",
      "  _ = axes.set_xticklabels(axes.get_xticklabels(), rotation=90)\n"
     ]
    },
    {
     "data": {
      "image/png": "[encoded data removed]",
      "text/plain": [
       "<Figure size 1080x216 with 5 Axes>"
      ]
     },
     "metadata": {
      "needs_background": "light"
     },
     "output_type": "display_data"
    }
   ],
   "source": [
    "g = sns.FacetGrid(data, col=\"Id\", hue=\"Intervention\")\n",
    "g.map(sns.scatterplot,\"time_point\",\"AvgScore\")\n",
    "for axes in g.axes.flat:\n",
    "    _ = axes.set_xticklabels(axes.get_xticklabels(), rotation=90)"
   ]
  },
  {
   "cell_type": "markdown",
   "metadata": {},
   "source": [
    "## Run tests"
   ]
  },
  {
   "cell_type": "code",
   "execution_count": null,
   "metadata": {},
   "outputs": [],
   "source": [
    "limit = LIMIT14\n",
    "treatment_column = TREATMENT_COLUMN"
   ]
  },
  {
   "cell_type": "code",
   "execution_count": null,
   "metadata": {},
   "outputs": [],
   "source": [
    "target_column = TARGET_COLUMN_PCA1\n",
    "predictor_columns = PREDICTOR_COLUMNS_PILOT\n",
    "group_column = GROUP_COLUMN\n",
    "tests_to_run = TESTS_TO_RUN"
   ]
  },
  {
   "cell_type": "code",
   "execution_count": null,
   "metadata": {},
   "outputs": [],
   "source": [
    "avgscore_target_column = TARGET_COLUMN_AVGSCORE"
   ]
  },
  {
   "cell_type": "code",
   "execution_count": null,
   "metadata": {
    "scrolled": true,
    "tags": []
   },
   "outputs": [
    {
     "name": "stdout",
     "output_type": "stream",
     "text": [
      "PREP...\n",
      "PCA variance explained: [0.98160296]\n"
     ]
    }
   ],
   "source": [
    "pca_vals = run_hypothesis_tests(data_path, \"Embeddings_Meta\", LIMIT=limit, \n",
    "                                treatment_column=treatment_column, \n",
    "                                target_column=target_column, \n",
    "                                tests_to_run=TESTS_TO_RUN)"
   ]
  },
  {
   "cell_type": "code",
   "execution_count": null,
   "metadata": {
    "scrolled": true,
    "tags": []
   },
   "outputs": [
    {
     "name": "stdout",
     "output_type": "stream",
     "text": [
      "./v_re_0.2\n",
      "Embeddings_Meta\n",
      "Generalized least squares fit by REML\n",
      "  Model: Value ~ Intervention \n",
      "  Data: structure(list(Phase = c(\"A1\", \"A1\", \"A1\", \"A1\", \"A1\", \"A1\",  \"B1\", \"B1\", \"B1\", \"B1\", \"B1\", \"B1\", \"A2\", \"A2\", \"A2\", \"A2\", \"A2\",  \"A2\", \"B2\", \"B2\", \"B2\", \"B2\", \"B2\", \"B2\", \"A3\", \"A3\", \"A3\", \"A3\",  \"A3\", \"A3\", \"B3\", \"B3\", \"B3\", \"B3\", \"B3\", \"B3\", \"A4\", \"A4\", \"A4\",  \"A4\", \"A4\", \"A4\", \"B4\", \"B4\", \"B4\", \"B4\", \"B4\", \"B4\"), Value = c(0.5,  0.7, 0.4, 0.6, 0.2, 0.4, 0.7, 0, 0.3, 0.5, 0.2, 0.3, 0.5, 0.3,  0.3, 0.4, 0.1, 0.3, 0.9, 0.4, 0.8, 0.7, 0.8, 0.9, 0.7, 0.6, 0.8,  0.7, 0.3, 0.8, 0.8, 0.7, 0.7, 0.8, 0.7, 0.1, 0.6, 0.2, 0.2, 0,  0.2, 0.4, 0.4, 0.2, 0.3, 0.7, 0.8, 0.2), Intervention = c(0L,  0L, 0L, 0L, 0L, 0L, 1L, 1L, 1L, 1L, 1L, 1L, 0L, 0L, 0L, 0L, 0L,  0L, 1L, 1L, 1L, 1L, 1L, 1L, 0L, 0L, 0L, 0L, 0L, 0L, 1L, 1L, 1L,  1L, 1L, 1L, 0L, 0L, 0L, 0L, 0L, 0L, 1L, 1L, 1L, 1L, 1L, 1L),      AvgScore = c(0.5, 0.7, 0.4, 0.6, 0.2, 0.4, 0.7, 0, 0.3, 0.5,      0.2, 0.3, 0.5, 0.3, 0.3, 0.4, 0.1, 0.3, 0.9, 0.4, 0.8, 0.7,      0.8, 0.9, 0.7, 0.6, 0.8, 0.7, 0.3, 0.8, 0.8, 0.7, 0.7, 0.8,      0.7, 0.1, 0.6, 0.2, 0.2, 0, 0.2, 0.4, 0.4, 0.2, 0.3, 0.7,      0.8, 0.2)), class = \"data.frame\", row.names = c(\"0\", \"1\",  \"2\", \"3\", \"4\", \"5\", \"6\", \"7\", \"8\", \"9\", \"10\", \"11\", \"12\", \"13\",  \"14\", \"15\", \"16\", \"17\", \"18\", \"19\", \"20\", \"21\", \"22\", \"23\", \"24\",  \"25\", \"26\", \"27\", \"28\", \"29\", \"30\", \"31\", \"32\", \"33\", \"34\", \"35\",  \"36\", \"37\", \"38\", \"39\", \"40\", \"41\", \"42\", \"43\", \"44\", \"45\", \"46\",  \"47\")) \n",
      "     AIC      BIC    logLik\n",
      "  14.056 21.37056 -3.027999\n",
      "\n",
      "Correlation Structure: AR(1)\n",
      " Formula: ~1 \n",
      " Parameter estimate(s):\n",
      "      Phi \n",
      "0.3194211 \n",
      "\n",
      "Coefficients:\n",
      "                 Value  Std.Error  t-value p-value\n",
      "(Intercept)  0.4331503 0.06714925 6.450561   0.000\n",
      "Intervention 0.0911645 0.08678773 1.050430   0.299\n",
      "\n",
      " Correlation: \n",
      "             (Intr)\n",
      "Intervention -0.646\n",
      "\n",
      "Standardized residuals:\n",
      "       Min         Q1        Med         Q3        Max \n",
      "-2.0364399 -0.8712391 -0.1115973  0.7708826  1.4591624 \n",
      "\n",
      "Residual standard error: 0.2574664 \n",
      "Degrees of freedom: 48 total; 46 residual\n",
      "\n",
      "2.990077e-01\n",
      "Generalized least squares fit by REML\n",
      "  Model: Value ~ Intervention \n",
      "  Data: structure(list(Phase = c(\"A1\", \"A1\", \"A1\", \"A1\", \"A1\", \"A1\",  \"B1\", \"B1\", \"B1\", \"B1\", \"B1\", \"B1\", \"A2\", \"A2\", \"A2\", \"A2\", \"A2\",  \"A2\", \"B2\", \"B2\", \"B2\", \"B2\", \"B2\", \"B2\", \"A3\", \"A3\", \"A3\", \"A3\",  \"A3\", \"A3\", \"B3\", \"B3\", \"B3\", \"B3\", \"B3\", \"B3\", \"A4\", \"A4\", \"A4\",  \"A4\", \"A4\", \"A4\", \"B4\", \"B4\", \"B4\", \"B4\", \"B4\", \"B4\"), Value = c(0.8,  0.9, 0.3, 0.2, 0.6, 0.5, 0.4, 0.5, 0.6, 0.2, 0.4, 0.3, 0.4, 0.4,  0.5, 0.6, 0.5, 0.4, 0.2, 0.6, 0.3, 0.2, 0.5, 0.3, 0.6, 0.3, 0.4,  0.6, 0.5, 0.4, 0.6, 0.6, 0.2, 0.3, 0.7, 0.5, 0.6, 1, 0.8, 0.4,  0.5, 0.7, 0.3, 0.1, 0.3, 0.2, 0.2, 0.1), Intervention = c(0L,  0L, 0L, 0L, 0L, 0L, 1L, 1L, 1L, 1L, 1L, 1L, 0L, 0L, 0L, 0L, 0L,  0L, 1L, 1L, 1L, 1L, 1L, 1L, 0L, 0L, 0L, 0L, 0L, 0L, 1L, 1L, 1L,  1L, 1L, 1L, 0L, 0L, 0L, 0L, 0L, 0L, 1L, 1L, 1L, 1L, 1L, 1L),      AvgScore = c(0.8, 0.9, 0.3, 0.2, 0.6, 0.5, 0.4, 0.5, 0.6,      0.2, 0.4, 0.3, 0.4, 0.4, 0.5, 0.6, 0.5, 0.4, 0.2, 0.6, 0.3,      0.2, 0.5, 0.3, 0.6, 0.3, 0.4, 0.6, 0.5, 0.4, 0.6, 0.6, 0.2,      0.3, 0.7, 0.5, 0.6, 1, 0.8, 0.4, 0.5, 0.7, 0.3, 0.1, 0.3,      0.2, 0.2, 0.1)), class = \"data.frame\", row.names = c(\"0\",  \"1\", \"2\", \"3\", \"4\", \"5\", \"6\", \"7\", \"8\", \"9\", \"10\", \"11\", \"12\",  \"13\", \"14\", \"15\", \"16\", \"17\", \"18\", \"19\", \"20\", \"21\", \"22\", \"23\",  \"24\", \"25\", \"26\", \"27\", \"28\", \"29\", \"30\", \"31\", \"32\", \"33\", \"34\",  \"35\", \"36\", \"37\", \"38\", \"39\", \"40\", \"41\", \"42\", \"43\", \"44\", \"45\",  \"46\", \"47\")) \n",
      "        AIC       BIC   logLik\n",
      "  -12.15315 -4.838587 10.07658\n",
      "\n",
      "Correlation Structure: AR(1)\n",
      " Formula: ~1 \n",
      " Parameter estimate(s):\n",
      "      Phi \n",
      "0.2359322 \n",
      "\n",
      "Coefficients:\n",
      "                  Value  Std.Error   t-value p-value\n",
      "(Intercept)   0.5367822 0.04621467 11.614972  0.0000\n",
      "Intervention -0.1776781 0.06185715 -2.872393  0.0061\n",
      "\n",
      " Correlation: \n",
      "             (Intr)\n",
      "Intervention -0.669\n",
      "\n",
      "Standardized residuals:\n",
      "       Min         Q1        Med         Q3        Max \n",
      "-1.7889020 -0.7265524 -0.1953776  0.7484035  2.4604965 \n",
      "\n",
      "Residual standard error: 0.1882619 \n",
      "Degrees of freedom: 48 total; 46 residual\n",
      "\n",
      "6.142971e-03\n",
      "Generalized least squares fit by REML\n",
      "  Model: Value ~ Intervention \n",
      "  Data: structure(list(Phase = c(\"A1\", \"A1\", \"A1\", \"A1\", \"A1\", \"A1\",  \"A1\", \"A1\", \"A1\", \"A1\", \"A1\", \"A1\", \"A1\", \"A1\", \"A1\", \"B1\", \"B1\",  \"B1\", \"B1\", \"B1\", \"B1\", \"A2\", \"A2\", \"A2\", \"A2\", \"A2\", \"A2\", \"B2\",  \"B2\", \"B2\", \"B2\", \"B2\", \"B2\", \"A3\", \"A3\", \"A3\", \"A3\", \"A3\", \"A3\",  \"B3\", \"B3\", \"B3\", \"B3\", \"B3\", \"B3\", \"A4\", \"A4\", \"A4\", \"A4\", \"A4\",  \"A4\", \"B4\", \"B4\", \"B4\", \"B4\", \"B4\", \"B4\"), Value = c(0.5, 0.6,  0.5, 0.5, 0.3, 0.8, 0.4, 0.3, 0.4, 0.8, 0.3, 0.5, 0.4, 0.6, 0.8,  0.3, 0.2, 0.4, 0.7, 0.6, 0.4, 0.3, 0.5, 0.3, 0.6, 0.3, 0.5, 0.7,  0.1, 0.7, 0.1, 0, 0.1, 0.4, 0.3, 0.2, 0.2, 0.1, 0.2, 0.4, 0.5,  0.5, 0.4, 0.2, 0.7, 0.6, 0.4, 0.7, 0.4, 0.5, 0.9, 0.4, 0.6, 0.9,  0.3, 0.6, 0.5), Intervention = c(0L, 0L, 0L, 0L, 0L, 0L, 0L,  0L, 0L, 0L, 0L, 0L, 0L, 0L, 0L, 1L, 1L, 1L, 1L, 1L, 1L, 0L, 0L,  0L, 0L, 0L, 0L, 1L, 1L, 1L, 1L, 1L, 1L, 0L, 0L, 0L, 0L, 0L, 0L,  1L, 1L, 1L, 1L, 1L, 1L, 0L, 0L, 0L, 0L, 0L, 0L, 1L, 1L, 1L, 1L,  1L, 1L), AvgScore = c(0.5, 0.6, 0.5, 0.5, 0.3, 0.8, 0.4, 0.3,  0.4, 0.8, 0.3, 0.5, 0.4, 0.6, 0.8, 0.3, 0.2, 0.4, 0.7, 0.6, 0.4,  0.3, 0.5, 0.3, 0.6, 0.3, 0.5, 0.7, 0.1, 0.7, 0.1, 0, 0.1, 0.4,  0.3, 0.2, 0.2, 0.1, 0.2, 0.4, 0.5, 0.5, 0.4, 0.2, 0.7, 0.6, 0.4,  0.7, 0.4, 0.5, 0.9, 0.4, 0.6, 0.9, 0.3, 0.6, 0.5)), class = \"data.frame\", row.names = c(\"0\",  \"1\", \"2\", \"3\", \"4\", \"5\", \"6\", \"7\", \"8\", \"9\", \"10\", \"11\", \"12\",  \"13\", \"14\", \"15\", \"16\", \"17\", \"18\", \"19\", \"20\", \"21\", \"22\", \"23\",  \"24\", \"25\", \"26\", \"27\", \"28\", \"29\", \"30\", \"31\", \"32\", \"33\", \"34\",  \"35\", \"36\", \"37\", \"38\", \"39\", \"40\", \"41\", \"42\", \"43\", \"44\", \"45\",  \"46\", \"47\", \"48\", \"49\", \"50\", \"51\", \"52\", \"53\", \"54\", \"55\", \"56\" )) \n",
      "          AIC     BIC   logLik\n",
      "  -0.07974292 7.94959 4.039871\n",
      "\n",
      "Correlation Structure: AR(1)\n",
      " Formula: ~1 \n",
      " Parameter estimate(s):\n",
      "     Phi \n",
      "0.106201 \n",
      "\n",
      "Coefficients:\n",
      "                  Value  Std.Error   t-value p-value\n",
      "(Intercept)   0.4596189 0.04072647 11.285510  0.0000\n",
      "Intervention -0.0326999 0.06156290 -0.531163  0.5974\n",
      "\n",
      " Correlation: \n",
      "             (Intr)\n",
      "Intervention -0.637\n",
      "\n",
      "Standardized residuals:\n",
      "       Min         Q1        Med         Q3        Max \n",
      "-1.9995478 -0.7476025 -0.1260798  0.6574985  2.2157553 \n",
      "\n",
      "Residual standard error: 0.2135078 \n",
      "Degrees of freedom: 57 total; 55 residual\n",
      "\n",
      "5.974445e-01\n",
      "Generalized least squares fit by REML\n",
      "  Model: Value ~ Intervention \n",
      "  Data: structure(list(Phase = c(\"A1\", \"A1\", \"A1\", \"A1\", \"A1\", \"A1\",  \"B1\", \"B1\", \"B1\", \"B1\", \"B1\", \"B1\", \"A2\", \"A2\", \"A2\", \"A2\", \"A2\",  \"A2\", \"B2\", \"B2\", \"B2\", \"B2\", \"B2\", \"B2\", \"A3\", \"A3\", \"A3\", \"A3\",  \"A3\", \"A3\", \"B3\", \"B3\", \"B3\", \"B3\", \"B3\", \"B3\", \"A4\", \"A4\", \"A4\",  \"A4\", \"A4\", \"A4\", \"B4\", \"B4\", \"B4\", \"B4\", \"B4\", \"B4\", \"A5\", \"A5\",  \"A5\", \"A5\", \"A5\", \"A5\"), Value = c(0.5, 0.4, 0.3, 0.9, 0.9, 0.6,  0.9, 0.9, 0.6, 0.7, 0.9, 0.7, 0.7, 0.8, 0.5, 0.5, 0.4, 0.6, 0.2,  0.4, 0.3, 0.3, 0.3, 0.3, 0.2, 0.3, 0.3, 0.4, 0.1, 0, 0.1, 0.1,  0.2, 0.2, 0.2, 0.2, 0.1, 0.1, 0.1, 0.1, 0, 0.2, 0.2, 0.1, 0.1,  0.3, 0.4, 0.2, 0.2, 0.1, 0.2, 0.2, 0.3, 0.3), Intervention = c(0L,  0L, 0L, 0L, 0L, 0L, 1L, 1L, 1L, 1L, 1L, 1L, 0L, 0L, 0L, 0L, 0L,  0L, 1L, 1L, 1L, 1L, 1L, 1L, 0L, 0L, 0L, 0L, 0L, 0L, 1L, 1L, 1L,  1L, 1L, 1L, 0L, 0L, 0L, 0L, 0L, 0L, 1L, 1L, 1L, 1L, 1L, 1L, 0L,  0L, 0L, 0L, 0L, 0L), AvgScore = c(0.5, 0.4, 0.3, 0.9, 0.9, 0.6,  0.9, 0.9, 0.6, 0.7, 0.9, 0.7, 0.7, 0.8, 0.5, 0.5, 0.4, 0.6, 0.2,  0.4, 0.3, 0.3, 0.3, 0.3, 0.2, 0.3, 0.3, 0.4, 0.1, 0, 0.1, 0.1,  0.2, 0.2, 0.2, 0.2, 0.1, 0.1, 0.1, 0.1, 0, 0.2, 0.2, 0.1, 0.1,  0.3, 0.4, 0.2, 0.2, 0.1, 0.2, 0.2, 0.3, 0.3)), class = \"data.frame\", row.names = c(\"0\",  \"1\", \"2\", \"3\", \"4\", \"5\", \"6\", \"7\", \"8\", \"9\", \"10\", \"11\", \"12\",  \"13\", \"14\", \"15\", \"16\", \"17\", \"18\", \"19\", \"20\", \"21\", \"22\", \"23\",  \"24\", \"25\", \"26\", \"27\", \"28\", \"29\", \"30\", \"31\", \"32\", \"33\", \"34\",  \"35\", \"36\", \"37\", \"38\", \"39\", \"40\", \"41\", \"42\", \"43\", \"44\", \"45\",  \"46\", \"47\", \"48\", \"49\", \"50\", \"51\", \"52\", \"53\")) \n",
      "        AIC       BIC   logLik\n",
      "  -32.70979 -24.90481 20.35489\n",
      "\n",
      "Correlation Structure: AR(1)\n",
      " Formula: ~1 \n",
      " Parameter estimate(s):\n",
      "      Phi \n",
      "0.8141699 \n",
      "\n",
      "Coefficients:\n",
      "                 Value  Std.Error  t-value p-value\n",
      "(Intercept)  0.3510108 0.10951310 3.205195  0.0023\n",
      "Intervention 0.0239452 0.05950054 0.402437  0.6890\n",
      "\n",
      " Correlation: \n",
      "             (Intr)\n",
      "Intervention -0.208\n",
      "\n",
      "Standardized residuals:\n",
      "       Min         Q1        Med         Q3        Max \n",
      "-1.2923096 -0.6441322 -0.2759641  0.5485306  2.0212028 \n",
      "\n",
      "Residual standard error: 0.2716151 \n",
      "Degrees of freedom: 54 total; 52 residual\n",
      "\n",
      "0.689011954\n",
      "Generalized least squares fit by REML\n",
      "  Model: Value ~ Intervention \n",
      "  Data: structure(list(Phase = c(\"A1\", \"A1\", \"A1\", \"A1\", \"A1\", \"A1\",  \"B1\", \"B1\", \"B1\", \"B1\", \"B1\", \"B1\", \"A2\", \"A2\", \"A2\", \"A2\", \"A2\",  \"A2\", \"B2\", \"B2\", \"B2\", \"B2\", \"B2\", \"B2\", \"A3\", \"A3\", \"A3\", \"A3\",  \"A3\", \"A3\", \"B3\", \"B3\", \"B3\", \"B3\", \"B3\", \"B3\", \"A4\", \"A4\", \"A4\",  \"A4\", \"A4\", \"A4\", \"B4\", \"B4\", \"B4\", \"B4\", \"B4\", \"B4\"), Value = c(0.8,  0.8, 0.5, 0.8, 0.5, 0.6, 0.7, 0.5, 0.6, 0.5, 0.7, 0.5, 0.5, 0.6,  0.8, 0.5, 0.7, 0.2, 0.5, 0.4, 0.7, 0.3, 0.4, 0.3, 0.1, 0.4, 0.9,  0.6, 0.4, 0.4, 0.5, 0.5, 0.6, 0.1, 0.1, 0.2, 0.3, 0.5, 0.1, 0.5,  0.3, 0.7, 0.7, 0.4, 0.8, 0.7, 0.4, 0.5), Intervention = c(0L,  0L, 0L, 0L, 0L, 0L, 1L, 1L, 1L, 1L, 1L, 1L, 0L, 0L, 0L, 0L, 0L,  0L, 1L, 1L, 1L, 1L, 1L, 1L, 0L, 0L, 0L, 0L, 0L, 0L, 1L, 1L, 1L,  1L, 1L, 1L, 0L, 0L, 0L, 0L, 0L, 0L, 1L, 1L, 1L, 1L, 1L, 1L),      AvgScore = c(0.8, 0.8, 0.5, 0.8, 0.5, 0.6, 0.7, 0.5, 0.6,      0.5, 0.7, 0.5, 0.5, 0.6, 0.8, 0.5, 0.7, 0.2, 0.5, 0.4, 0.7,      0.3, 0.4, 0.3, 0.1, 0.4, 0.9, 0.6, 0.4, 0.4, 0.5, 0.5, 0.6,      0.1, 0.1, 0.2, 0.3, 0.5, 0.1, 0.5, 0.3, 0.7, 0.7, 0.4, 0.8,      0.7, 0.4, 0.5)), class = \"data.frame\", row.names = c(\"0\",  \"1\", \"2\", \"3\", \"4\", \"5\", \"6\", \"7\", \"8\", \"9\", \"10\", \"11\", \"12\",  \"13\", \"14\", \"15\", \"16\", \"17\", \"18\", \"19\", \"20\", \"21\", \"22\", \"23\",  \"24\", \"25\", \"26\", \"27\", \"28\", \"29\", \"30\", \"31\", \"32\", \"33\", \"34\",  \"35\", \"36\", \"37\", \"38\", \"39\", \"40\", \"41\", \"42\", \"43\", \"44\", \"45\",  \"46\", \"47\")) \n",
      "        AIC      BIC   logLik\n",
      "  -3.254528 4.060038 5.627264\n",
      "\n",
      "Correlation Structure: AR(1)\n",
      " Formula: ~1 \n",
      " Parameter estimate(s):\n",
      "      Phi \n",
      "0.2760139 \n",
      "\n",
      "Coefficients:\n",
      "                  Value  Std.Error   t-value p-value\n",
      "(Intercept)   0.5104187 0.05307694  9.616581  0.0000\n",
      "Intervention -0.0120449 0.06995972 -0.172169  0.8641\n",
      "\n",
      " Correlation: \n",
      "             (Intr)\n",
      "Intervention -0.659\n",
      "\n",
      "Standardized residuals:\n",
      "         Min           Q1          Med           Q3          Max \n",
      "-1.954614350 -0.525867853  0.007744741  0.902878645  1.855376310 \n",
      "\n",
      "Residual standard error: 0.2099743 \n",
      "Degrees of freedom: 48 total; 46 residual\n",
      "\n",
      "8.640597e-01\n"
     ]
    }
   ],
   "source": [
    "avgscore_vals= run_hypothesis_tests(data_path, \"Embeddings_Meta\", LIMIT=limit, \n",
    "                                treatment_column=treatment_column, \n",
    "                                target_column=avgscore_target_column, \n",
    "                                tests_to_run=TESTS_TO_RUN)"
   ]
  },
  {
   "cell_type": "code",
   "execution_count": null,
   "metadata": {},
   "outputs": [],
   "source": [
    "def print_all_test_vals(vals, tests_to_run=TESTS_TO_RUN):\n",
    "    vals = pd.DataFrame(vals.copy())\n",
    "\n",
    "    vals.columns = [\"ID\", \"test\", \"p_value\"]\n",
    "\n",
    "    vals =vals.pivot(columns=\"test\", values=\"p_value\")\n",
    "\n",
    "    vals2 = pd.DataFrame(columns=vals.columns)\n",
    "\n",
    "    for col in vals.columns:\n",
    "        vals2[col] = vals[col].dropna().reset_index(drop=True).astype(float)\n",
    "\n",
    "    vals2.reset_index(inplace=True)\n",
    "    vals2.rename(columns={\"index\":\"ID\"}, inplace=True)\n",
    "\n",
    "    vals2[\"ID\"] = range(1,6)\n",
    "    \n",
    "    try:\n",
    "        vals2.drop(columns=\"lm_ar1_results_coef\",inplace=True)\n",
    "    except:\n",
    "        pass\n",
    "        \n",
    "    return vals2.style.apply(lambda x: [\"background: green\" if v < 0.05 else \"\" for v in x], axis = 1)"
   ]
  },
  {
   "cell_type": "code",
   "execution_count": 73,
   "metadata": {},
   "outputs": [
    {
     "data": {
      "text/html": [
       "<style type=\"text/css\">\n",
       "#T_e05bf_row1_col2, #T_e05bf_row1_col3 {\n",
       "  background: green;\n",
       "}\n",
       "</style>\n",
       "<table id=\"T_e05bf\">\n",
       "  <thead>\n",
       "    <tr>\n",
       "      <th class=\"index_name level0\" >test</th>\n",
       "      <th id=\"T_e05bf_level0_col0\" class=\"col_heading level0 col0\" >ID</th>\n",
       "      <th id=\"T_e05bf_level0_col1\" class=\"col_heading level0 col1\" >lm_ar1_results_intervention</th>\n",
       "      <th id=\"T_e05bf_level0_col2\" class=\"col_heading level0 col2\" >scipy_AB</th>\n",
       "      <th id=\"T_e05bf_level0_col3\" class=\"col_heading level0 col3\" >ttest_results</th>\n",
       "    </tr>\n",
       "  </thead>\n",
       "  <tbody>\n",
       "    <tr>\n",
       "      <th id=\"T_e05bf_level0_row0\" class=\"row_heading level0 row0\" >0</th>\n",
       "      <td id=\"T_e05bf_row0_col0\" class=\"data row0 col0\" >1</td>\n",
       "      <td id=\"T_e05bf_row0_col1\" class=\"data row0 col1\" >0.550483</td>\n",
       "      <td id=\"T_e05bf_row0_col2\" class=\"data row0 col2\" >0.543000</td>\n",
       "      <td id=\"T_e05bf_row0_col3\" class=\"data row0 col3\" >0.551226</td>\n",
       "    </tr>\n",
       "    <tr>\n",
       "      <th id=\"T_e05bf_level0_row1\" class=\"row_heading level0 row1\" >1</th>\n",
       "      <td id=\"T_e05bf_row1_col0\" class=\"data row1 col0\" >2</td>\n",
       "      <td id=\"T_e05bf_row1_col1\" class=\"data row1 col1\" >0.058526</td>\n",
       "      <td id=\"T_e05bf_row1_col2\" class=\"data row1 col2\" >0.033600</td>\n",
       "      <td id=\"T_e05bf_row1_col3\" class=\"data row1 col3\" >0.033728</td>\n",
       "    </tr>\n",
       "    <tr>\n",
       "      <th id=\"T_e05bf_level0_row2\" class=\"row_heading level0 row2\" >2</th>\n",
       "      <td id=\"T_e05bf_row2_col0\" class=\"data row2 col0\" >3</td>\n",
       "      <td id=\"T_e05bf_row2_col1\" class=\"data row2 col1\" >0.949268</td>\n",
       "      <td id=\"T_e05bf_row2_col2\" class=\"data row2 col2\" >0.924200</td>\n",
       "      <td id=\"T_e05bf_row2_col3\" class=\"data row2 col3\" >0.918023</td>\n",
       "    </tr>\n",
       "    <tr>\n",
       "      <th id=\"T_e05bf_level0_row3\" class=\"row_heading level0 row3\" >3</th>\n",
       "      <td id=\"T_e05bf_row3_col0\" class=\"data row3 col0\" >4</td>\n",
       "      <td id=\"T_e05bf_row3_col1\" class=\"data row3 col1\" >0.517182</td>\n",
       "      <td id=\"T_e05bf_row3_col2\" class=\"data row3 col2\" >0.614200</td>\n",
       "      <td id=\"T_e05bf_row3_col3\" class=\"data row3 col3\" >0.611642</td>\n",
       "    </tr>\n",
       "    <tr>\n",
       "      <th id=\"T_e05bf_level0_row4\" class=\"row_heading level0 row4\" >4</th>\n",
       "      <td id=\"T_e05bf_row4_col0\" class=\"data row4 col0\" >5</td>\n",
       "      <td id=\"T_e05bf_row4_col1\" class=\"data row4 col1\" >0.472974</td>\n",
       "      <td id=\"T_e05bf_row4_col2\" class=\"data row4 col2\" >0.315000</td>\n",
       "      <td id=\"T_e05bf_row4_col3\" class=\"data row4 col3\" >0.317714</td>\n",
       "    </tr>\n",
       "  </tbody>\n",
       "</table>\n"
      ],
      "text/plain": [
       "<pandas.io.formats.style.Styler at 0x7f36fc774be0>"
      ]
     },
     "execution_count": 73,
     "metadata": {},
     "output_type": "execute_result"
    }
   ],
   "source": [
    "print_all_test_vals(pca_vals)"
   ]
  },
  {
   "cell_type": "code",
   "execution_count": 14,
   "metadata": {},
   "outputs": [
    {
     "data": {
      "text/html": [
       "<style type=\"text/css\">\n",
       "#T_43398_row1_col1, #T_43398_row1_col2, #T_43398_row1_col3 {\n",
       "  background: green;\n",
       "}\n",
       "</style>\n",
       "<table id=\"T_43398\">\n",
       "  <thead>\n",
       "    <tr>\n",
       "      <th class=\"index_name level0\" >test</th>\n",
       "      <th id=\"T_43398_level0_col0\" class=\"col_heading level0 col0\" >ID</th>\n",
       "      <th id=\"T_43398_level0_col1\" class=\"col_heading level0 col1\" >lm_ar1_results_intervention</th>\n",
       "      <th id=\"T_43398_level0_col2\" class=\"col_heading level0 col2\" >scipy_AB</th>\n",
       "      <th id=\"T_43398_level0_col3\" class=\"col_heading level0 col3\" >ttest_results</th>\n",
       "    </tr>\n",
       "  </thead>\n",
       "  <tbody>\n",
       "    <tr>\n",
       "      <th id=\"T_43398_level0_row0\" class=\"row_heading level0 row0\" >0</th>\n",
       "      <td id=\"T_43398_row0_col0\" class=\"data row0 col0\" >1</td>\n",
       "      <td id=\"T_43398_row0_col1\" class=\"data row0 col1\" >0.299008</td>\n",
       "      <td id=\"T_43398_row0_col2\" class=\"data row0 col2\" >0.155400</td>\n",
       "      <td id=\"T_43398_row0_col3\" class=\"data row0 col3\" >0.131395</td>\n",
       "    </tr>\n",
       "    <tr>\n",
       "      <th id=\"T_43398_level0_row1\" class=\"row_heading level0 row1\" >1</th>\n",
       "      <td id=\"T_43398_row1_col0\" class=\"data row1 col0\" >2</td>\n",
       "      <td id=\"T_43398_row1_col1\" class=\"data row1 col1\" >0.006143</td>\n",
       "      <td id=\"T_43398_row1_col2\" class=\"data row1 col2\" >0.002000</td>\n",
       "      <td id=\"T_43398_row1_col3\" class=\"data row1 col3\" >0.001700</td>\n",
       "    </tr>\n",
       "    <tr>\n",
       "      <th id=\"T_43398_level0_row2\" class=\"row_heading level0 row2\" >2</th>\n",
       "      <td id=\"T_43398_row2_col0\" class=\"data row2 col0\" >3</td>\n",
       "      <td id=\"T_43398_row2_col1\" class=\"data row2 col1\" >0.597445</td>\n",
       "      <td id=\"T_43398_row2_col2\" class=\"data row2 col2\" >0.659200</td>\n",
       "      <td id=\"T_43398_row2_col3\" class=\"data row2 col3\" >0.620696</td>\n",
       "    </tr>\n",
       "    <tr>\n",
       "      <th id=\"T_43398_level0_row3\" class=\"row_heading level0 row3\" >3</th>\n",
       "      <td id=\"T_43398_row3_col0\" class=\"data row3 col0\" >4</td>\n",
       "      <td id=\"T_43398_row3_col1\" class=\"data row3 col1\" >0.689012</td>\n",
       "      <td id=\"T_43398_row3_col2\" class=\"data row3 col2\" >0.789600</td>\n",
       "      <td id=\"T_43398_row3_col3\" class=\"data row3 col3\" >0.744168</td>\n",
       "    </tr>\n",
       "    <tr>\n",
       "      <th id=\"T_43398_level0_row4\" class=\"row_heading level0 row4\" >4</th>\n",
       "      <td id=\"T_43398_row4_col0\" class=\"data row4 col0\" >5</td>\n",
       "      <td id=\"T_43398_row4_col1\" class=\"data row4 col1\" >0.864060</td>\n",
       "      <td id=\"T_43398_row4_col2\" class=\"data row4 col2\" >0.584000</td>\n",
       "      <td id=\"T_43398_row4_col3\" class=\"data row4 col3\" >0.533591</td>\n",
       "    </tr>\n",
       "  </tbody>\n",
       "</table>\n"
      ],
      "text/plain": [
       "<pandas.io.formats.style.Styler at 0x7fdd3e815430>"
      ]
     },
     "execution_count": 14,
     "metadata": {},
     "output_type": "execute_result"
    }
   ],
   "source": [
    "print_all_test_vals(avgscore_vals)"
   ]
  }
 ],
 "metadata": {
  "accelerator": "GPU",
  "colab": {
   "provenance": []
  },
  "gpuClass": "standard",
  "kernelspec": {
   "display_name": "Python 3 (ipykernel)",
   "language": "python",
   "name": "python3"
  },
  "language_info": {
   "codemirror_mode": {
    "name": "ipython",
    "version": 3
   },
   "file_extension": ".py",
   "mimetype": "text/x-python",
   "name": "python",
   "nbconvert_exporter": "python",
   "pygments_lexer": "ipython3",
   "version": "3.8.10"
  },
  "vscode": {
   "interpreter": {
    "hash": "69ecee0f5b4840ca46cfe5d0ab9861af09b025de88ac69231407b36cdde2e54b"
   }
  }
 },
 "nbformat": 4,
 "nbformat_minor": 4
}
